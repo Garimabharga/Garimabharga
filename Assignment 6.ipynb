{
 "cells": [
  {
   "cell_type": "markdown",
   "metadata": {},
   "source": [
    "Ques 1. Create a vector with values ranging from 10 to 49#"
   ]
  },
  {
   "cell_type": "code",
   "execution_count": 1,
   "metadata": {},
   "outputs": [
    {
     "name": "stdout",
     "output_type": "stream",
     "text": [
      "Original vector:\n",
      "[10 11 12 13 14 15 16 17 18 19 20 21 22 23 24 25 26 27 28 29 30 31 32 33\n",
      " 34 35 36 37 38 39 40 41 42 43 44 45 46 47 48]\n"
     ]
    }
   ],
   "source": [
    "import numpy as np\n",
    "v = np.arange(10,49)\n",
    "print(\"Original vector:\")\n",
    "print(v)"
   ]
  },
  {
   "cell_type": "markdown",
   "metadata": {},
   "source": [
    "#Ques 2. Reverse a vector (first element becomes last)¶"
   ]
  },
  {
   "cell_type": "code",
   "execution_count": 2,
   "metadata": {},
   "outputs": [],
   "source": [
    "import numpy as np"
   ]
  },
  {
   "cell_type": "code",
   "execution_count": 5,
   "metadata": {},
   "outputs": [
    {
     "data": {
      "text/plain": [
       "array([1, 2, 3, 4, 5, 6, 7, 8, 9])"
      ]
     },
     "execution_count": 5,
     "metadata": {},
     "output_type": "execute_result"
    }
   ],
   "source": [
    "arr = np.arange(1,10)\n",
    "arr"
   ]
  },
  {
   "cell_type": "code",
   "execution_count": 6,
   "metadata": {},
   "outputs": [
    {
     "data": {
      "text/plain": [
       "array([9, 8, 7, 6, 5, 4, 3, 2, 1])"
      ]
     },
     "execution_count": 6,
     "metadata": {},
     "output_type": "execute_result"
    }
   ],
   "source": [
    "arr[::-1]"
   ]
  },
  {
   "cell_type": "markdown",
   "metadata": {},
   "source": [
    "#Ques 3.Create a 3x3 identity matrix"
   ]
  },
  {
   "cell_type": "code",
   "execution_count": 7,
   "metadata": {},
   "outputs": [
    {
     "name": "stdout",
     "output_type": "stream",
     "text": [
      "3x3 matrix:\n",
      "[[1. 0. 0.]\n",
      " [0. 1. 0.]\n",
      " [0. 0. 1.]]\n"
     ]
    }
   ],
   "source": [
    "import numpy as np\n",
    "array_2D=np.identity(3)\n",
    "print('3x3 matrix:')\n",
    "print(array_2D)"
   ]
  },
  {
   "cell_type": "markdown",
   "metadata": {},
   "source": [
    "#Ques 4. Create a 10x10 array with random values and find the minimum and maximum values"
   ]
  },
  {
   "cell_type": "code",
   "execution_count": 8,
   "metadata": {},
   "outputs": [
    {
     "name": "stdout",
     "output_type": "stream",
     "text": [
      "Original Array:\n",
      "[[0.38708773 0.96440488 0.83874636 0.52672585 0.11725494 0.39464268\n",
      "  0.22783743 0.48984327 0.84724515 0.89496669]\n",
      " [0.34153673 0.20125598 0.34808378 0.55922656 0.16455346 0.06117576\n",
      "  0.66152655 0.56243458 0.87895898 0.59585612]\n",
      " [0.42419818 0.89018717 0.88056884 0.95217155 0.79066407 0.16618283\n",
      "  0.99339456 0.78015839 0.3141937  0.55532425]\n",
      " [0.97276329 0.19658552 0.20983919 0.23406134 0.93957632 0.49033099\n",
      "  0.78387085 0.29734748 0.43103173 0.005074  ]\n",
      " [0.58518415 0.24774912 0.01722797 0.64615332 0.61130484 0.42489485\n",
      "  0.35265592 0.28391725 0.18185965 0.4925932 ]\n",
      " [0.32763511 0.20803916 0.9054493  0.07400959 0.30310582 0.68387532\n",
      "  0.20551955 0.16969008 0.40271462 0.76390225]\n",
      " [0.06503719 0.50158294 0.16201824 0.71307484 0.96152872 0.23262905\n",
      "  0.3388612  0.71248174 0.34889746 0.94881663]\n",
      " [0.31537313 0.97917871 0.79208028 0.75318771 0.71206722 0.73759644\n",
      "  0.52943467 0.24786954 0.31847654 0.74982532]\n",
      " [0.1048633  0.58636254 0.55405887 0.24331743 0.23226524 0.88194341\n",
      "  0.36335185 0.488796   0.67094459 0.64981851]\n",
      " [0.18194625 0.00875069 0.48736507 0.47201224 0.28044285 0.71243284\n",
      "  0.70671558 0.62295033 0.06913819 0.31527035]]\n",
      "Minimum and Maximum Values:\n",
      "0.005073999530903928 0.9933945588282671\n"
     ]
    }
   ],
   "source": [
    "import numpy as np\n",
    "x = np.random.random((10,10))\n",
    "print(\"Original Array:\")\n",
    "print(x) \n",
    "xmin, xmax = x.min(), x.max()\n",
    "print(\"Minimum and Maximum Values:\")\n",
    "print(xmin, xmax)\n"
   ]
  },
  {
   "cell_type": "markdown",
   "metadata": {},
   "source": [
    "#Ques 6.How to sum a small array faster than np.sum?\n"
   ]
  },
  {
   "cell_type": "code",
   "execution_count": 12,
   "metadata": {},
   "outputs": [
    {
     "name": "stdout",
     "output_type": "stream",
     "text": [
      "\n",
      "Sum of arr :  36.2\n",
      "Sum of arr(uint8) :  36\n",
      "Sum of arr(float32) :  36.2\n",
      "\n",
      "Is np.sum(arr).dtype == np.uint :  False\n",
      "Is np.sum(arr).dtype == np.float :  True\n"
     ]
    }
   ],
   "source": [
    "\n",
    "import numpy as np\n",
    "\n",
    "# 1D array\n",
    "arr = [20, 2, .2, 10, 4]\n",
    "\n",
    "print(\"\\nSum of arr : \", np.sum(arr))\n",
    "\n",
    "print(\"Sum of arr(uint8) : \", np.sum(arr, dtype = np.uint8))\n",
    "print(\"Sum of arr(float32) : \", np.sum(arr, dtype = np.float32))\n",
    "\n",
    "print (\"\\nIs np.sum(arr).dtype == np.uint : \",\n",
    "np.sum(arr).dtype == np.uint)\n",
    "\n",
    "print (\"Is np.sum(arr).dtype == np.float : \",\n",
    "np.sum(arr).dtype == np.float)\n"
   ]
  },
  {
   "cell_type": "markdown",
   "metadata": {},
   "source": [
    "#Ques 7.How to find the closest value (to a given scalar) in a vector?¶"
   ]
  },
  {
   "cell_type": "code",
   "execution_count": null,
   "metadata": {},
   "outputs": [],
   "source": []
  }
 ],
 "metadata": {
  "kernelspec": {
   "display_name": "Python 3",
   "language": "python",
   "name": "python3"
  },
  "language_info": {
   "codemirror_mode": {
    "name": "ipython",
    "version": 3
   },
   "file_extension": ".py",
   "mimetype": "text/x-python",
   "name": "python",
   "nbconvert_exporter": "python",
   "pygments_lexer": "ipython3",
   "version": "3.8.5"
  }
 },
 "nbformat": 4,
 "nbformat_minor": 4
}
